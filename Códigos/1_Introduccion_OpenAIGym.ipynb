{
  "nbformat": 4,
  "nbformat_minor": 0,
  "metadata": {
    "colab": {
      "provenance": []
    },
    "kernelspec": {
      "name": "python3",
      "display_name": "Python 3"
    },
    "language_info": {
      "name": "python"
    }
  },
  "cells": [
    {
      "cell_type": "markdown",
      "source": [
        "# INTRODUCCIÓN A OPENAI GYM\n",
        "\n",
        "[OpenAI Gym](https://gym.openai.com/) es una librería de Python desarrollada por [OpenAI](https://openai.com/) (una de las compañías de investigación en Inteligencia Artificial más importantes a nivel mundial) y que permite implementar diferentes algoritmos de Aprendizaje por Refuerzo y simular la interacción entre Agentes y Entornos."
      ],
      "metadata": {
        "id": "aJTNK3cB6XdV"
      }
    },
    {
      "cell_type": "markdown",
      "source": [
        "## 1. Instalación"
      ],
      "metadata": {
        "id": "voRlvjZ06rwW"
      }
    },
    {
      "cell_type": "code",
      "source": [
        "# Modificación septiembre 2/2022\n",
        "# Se requiere la versión 0.17.3 de OpenAI Gym para poder\n",
        "# usar el método \"render\". Versiones más recientes no\n",
        "# permiten usar este método desde Google Colab\n",
        "!pip install gym==0.17.3"
      ],
      "metadata": {
        "id": "PfRh_wYH6vdZ",
        "colab": {
          "base_uri": "https://localhost:8080/"
        },
        "outputId": "b7cd0e7f-1a79-4500-902c-944e588efd01"
      },
      "execution_count": null,
      "outputs": [
        {
          "output_type": "stream",
          "name": "stdout",
          "text": [
            "Collecting gym==0.17.3\n",
            "  Downloading gym-0.17.3.tar.gz (1.6 MB)\n",
            "\u001b[?25l     \u001b[90m━━━━━━━━━━━━━━━━━━━━━━━━━━━━━━━━━━━━━━━━\u001b[0m \u001b[32m0.0/1.6 MB\u001b[0m \u001b[31m?\u001b[0m eta \u001b[36m-:--:--\u001b[0m\r\u001b[2K     \u001b[91m━━━━\u001b[0m\u001b[91m╸\u001b[0m\u001b[90m━━━━━━━━━━━━━━━━━━━━━━━━━━━━━━━━━━━\u001b[0m \u001b[32m0.2/1.6 MB\u001b[0m \u001b[31m6.5 MB/s\u001b[0m eta \u001b[36m0:00:01\u001b[0m\r\u001b[2K     \u001b[91m━━━━━━━━━━━━━━━━━━━━━━━━━━━━━━━━━━━━━━━\u001b[0m\u001b[91m╸\u001b[0m \u001b[32m1.6/1.6 MB\u001b[0m \u001b[31m20.8 MB/s\u001b[0m eta \u001b[36m0:00:01\u001b[0m\r\u001b[2K     \u001b[91m━━━━━━━━━━━━━━━━━━━━━━━━━━━━━━━━━━━━━━━\u001b[0m\u001b[91m╸\u001b[0m \u001b[32m1.6/1.6 MB\u001b[0m \u001b[31m20.8 MB/s\u001b[0m eta \u001b[36m0:00:01\u001b[0m\r\u001b[2K     \u001b[90m━━━━━━━━━━━━━━━━━━━━━━━━━━━━━━━━━━━━━━━━\u001b[0m \u001b[32m1.6/1.6 MB\u001b[0m \u001b[31m12.8 MB/s\u001b[0m eta \u001b[36m0:00:00\u001b[0m\n",
            "\u001b[?25h  Preparing metadata (setup.py) ... \u001b[?25l\u001b[?25hdone\n",
            "Requirement already satisfied: scipy in /usr/local/lib/python3.10/dist-packages (from gym==0.17.3) (1.13.1)\n",
            "Requirement already satisfied: numpy>=1.10.4 in /usr/local/lib/python3.10/dist-packages (from gym==0.17.3) (1.26.4)\n",
            "Collecting pyglet<=1.5.0,>=1.4.0 (from gym==0.17.3)\n",
            "  Downloading pyglet-1.5.0-py2.py3-none-any.whl.metadata (7.6 kB)\n",
            "Collecting cloudpickle<1.7.0,>=1.2.0 (from gym==0.17.3)\n",
            "  Downloading cloudpickle-1.6.0-py3-none-any.whl.metadata (4.3 kB)\n",
            "Requirement already satisfied: future in /usr/local/lib/python3.10/dist-packages (from pyglet<=1.5.0,>=1.4.0->gym==0.17.3) (1.0.0)\n",
            "Downloading cloudpickle-1.6.0-py3-none-any.whl (23 kB)\n",
            "Downloading pyglet-1.5.0-py2.py3-none-any.whl (1.0 MB)\n",
            "\u001b[2K   \u001b[90m━━━━━━━━━━━━━━━━━━━━━━━━━━━━━━━━━━━━━━━━\u001b[0m \u001b[32m1.0/1.0 MB\u001b[0m \u001b[31m26.0 MB/s\u001b[0m eta \u001b[36m0:00:00\u001b[0m\n",
            "\u001b[?25hBuilding wheels for collected packages: gym\n",
            "  Building wheel for gym (setup.py) ... \u001b[?25l\u001b[?25hdone\n",
            "  Created wheel for gym: filename=gym-0.17.3-py3-none-any.whl size=1654616 sha256=e2842380f0a6edef8eec9882b87fffb189c3acd994a79c97000789b43d4a9480\n",
            "  Stored in directory: /root/.cache/pip/wheels/af/4b/74/fcfc8238472c34d7f96508a63c962ff3ac9485a9a4137afd4e\n",
            "Successfully built gym\n",
            "Installing collected packages: pyglet, cloudpickle, gym\n",
            "  Attempting uninstall: cloudpickle\n",
            "    Found existing installation: cloudpickle 3.1.0\n",
            "    Uninstalling cloudpickle-3.1.0:\n",
            "      Successfully uninstalled cloudpickle-3.1.0\n",
            "  Attempting uninstall: gym\n",
            "    Found existing installation: gym 0.25.2\n",
            "    Uninstalling gym-0.25.2:\n",
            "      Successfully uninstalled gym-0.25.2\n",
            "\u001b[31mERROR: pip's dependency resolver does not currently take into account all the packages that are installed. This behaviour is the source of the following dependency conflicts.\n",
            "bigframes 1.25.0 requires cloudpickle>=2.0.0, but you have cloudpickle 1.6.0 which is incompatible.\n",
            "dask 2024.10.0 requires cloudpickle>=3.0.0, but you have cloudpickle 1.6.0 which is incompatible.\u001b[0m\u001b[31m\n",
            "\u001b[0mSuccessfully installed cloudpickle-1.6.0 gym-0.17.3 pyglet-1.5.0\n"
          ]
        }
      ]
    },
    {
      "cell_type": "markdown",
      "source": [
        "## 2. Entornos\n",
        "\n",
        "Los [entornos](https://gym.openai.com/envs/FrozenLake-v0/) son el bloque fundamental de OpenAi Gym.\n",
        "\n",
        "Básicamente implementan en Python un simulador del entorno en el cual queremos entrenar nuestro Agente.\n",
        "\n",
        "OpenAI Gym contiene ya pre-instalados varios entornos útiles en problemas básicos (como el que veremos en esta lección) y en áreas como el control, la robótica o incluso los videojuegos. Además permite la creación de entornos personalizados.\n",
        "\n",
        "En esta lección usaremos el entorno [*Frozen Lake*](https://gym.openai.com/envs/FrozenLake-v0/) (o \"El lago congelado\") que en esencia es el Tablero Bidimensional Estocástico que hemos venido trabajando:"
      ],
      "metadata": {
        "id": "ly4J0PO_7PbV"
      }
    },
    {
      "cell_type": "code",
      "source": [
        "# Importemos la librería (\"gym\") y creemos el objeto que contendrá\n",
        "# el entorno (\"env\")\n",
        "import gym\n",
        "env = gym.make('FrozenLake-v0')"
      ],
      "metadata": {
        "id": "7_W0oizB7RwD"
      },
      "execution_count": null,
      "outputs": []
    },
    {
      "cell_type": "markdown",
      "source": [
        "Con el método `render` podemos visualizar el entorno y su estado actual:"
      ],
      "metadata": {
        "id": "nluASA4vC5EH"
      }
    },
    {
      "cell_type": "code",
      "source": [
        "env.render()"
      ],
      "metadata": {
        "id": "jXPVPYWw95hP",
        "colab": {
          "base_uri": "https://localhost:8080/"
        },
        "outputId": "bd48744c-65c6-43f4-eb67-c857a86167cf"
      },
      "execution_count": null,
      "outputs": [
        {
          "output_type": "stream",
          "name": "stdout",
          "text": [
            "\n",
            "\u001b[41mS\u001b[0mFFF\n",
            "FHFH\n",
            "FFFH\n",
            "HFFG\n"
          ]
        }
      ]
    },
    {
      "cell_type": "markdown",
      "source": [
        "La variable `observation_space` contiene el \"espacio de observaciones\",\n",
        "que en nuestro caso es el mismo espacio de estados:"
      ],
      "metadata": {
        "id": "BymQ7J3oDHoq"
      }
    },
    {
      "cell_type": "code",
      "source": [
        "S = env.observation_space\n",
        "print(S)"
      ],
      "metadata": {
        "id": "UncAl_mg-Szz",
        "colab": {
          "base_uri": "https://localhost:8080/"
        },
        "outputId": "bf676e58-8b40-4129-f2d7-802dbf90b837"
      },
      "execution_count": null,
      "outputs": [
        {
          "output_type": "stream",
          "name": "stdout",
          "text": [
            "Discrete(16)\n"
          ]
        }
      ]
    },
    {
      "cell_type": "markdown",
      "source": [
        "La variable `action_space` contiene el espacio de acciones:"
      ],
      "metadata": {
        "id": "zxJag8tYDKou"
      }
    },
    {
      "cell_type": "code",
      "source": [
        "A = env.action_space\n",
        "print(A)"
      ],
      "metadata": {
        "id": "1y6VY-we-d1Y",
        "colab": {
          "base_uri": "https://localhost:8080/"
        },
        "outputId": "8d397aa9-bc07-4633-988f-c3ce292621a5"
      },
      "execution_count": null,
      "outputs": [
        {
          "output_type": "stream",
          "name": "stdout",
          "text": [
            "Discrete(4)\n"
          ]
        }
      ]
    },
    {
      "cell_type": "markdown",
      "source": [
        "Y la variable `P` contiene la función de transición:"
      ],
      "metadata": {
        "id": "bO5OgOkUDSfo"
      }
    },
    {
      "cell_type": "code",
      "source": [
        "P = env.P\n",
        "print(P)"
      ],
      "metadata": {
        "id": "6lOuMa3NDRTx",
        "colab": {
          "base_uri": "https://localhost:8080/"
        },
        "outputId": "7f0ce6b8-22c2-48dd-e57d-777adf9331e7"
      },
      "execution_count": null,
      "outputs": [
        {
          "output_type": "stream",
          "name": "stdout",
          "text": [
            "{0: {0: [(0.3333333333333333, 0, 0.0, False), (0.3333333333333333, 0, 0.0, False), (0.3333333333333333, 4, 0.0, False)], 1: [(0.3333333333333333, 0, 0.0, False), (0.3333333333333333, 4, 0.0, False), (0.3333333333333333, 1, 0.0, False)], 2: [(0.3333333333333333, 4, 0.0, False), (0.3333333333333333, 1, 0.0, False), (0.3333333333333333, 0, 0.0, False)], 3: [(0.3333333333333333, 1, 0.0, False), (0.3333333333333333, 0, 0.0, False), (0.3333333333333333, 0, 0.0, False)]}, 1: {0: [(0.3333333333333333, 1, 0.0, False), (0.3333333333333333, 0, 0.0, False), (0.3333333333333333, 5, 0.0, True)], 1: [(0.3333333333333333, 0, 0.0, False), (0.3333333333333333, 5, 0.0, True), (0.3333333333333333, 2, 0.0, False)], 2: [(0.3333333333333333, 5, 0.0, True), (0.3333333333333333, 2, 0.0, False), (0.3333333333333333, 1, 0.0, False)], 3: [(0.3333333333333333, 2, 0.0, False), (0.3333333333333333, 1, 0.0, False), (0.3333333333333333, 0, 0.0, False)]}, 2: {0: [(0.3333333333333333, 2, 0.0, False), (0.3333333333333333, 1, 0.0, False), (0.3333333333333333, 6, 0.0, False)], 1: [(0.3333333333333333, 1, 0.0, False), (0.3333333333333333, 6, 0.0, False), (0.3333333333333333, 3, 0.0, False)], 2: [(0.3333333333333333, 6, 0.0, False), (0.3333333333333333, 3, 0.0, False), (0.3333333333333333, 2, 0.0, False)], 3: [(0.3333333333333333, 3, 0.0, False), (0.3333333333333333, 2, 0.0, False), (0.3333333333333333, 1, 0.0, False)]}, 3: {0: [(0.3333333333333333, 3, 0.0, False), (0.3333333333333333, 2, 0.0, False), (0.3333333333333333, 7, 0.0, True)], 1: [(0.3333333333333333, 2, 0.0, False), (0.3333333333333333, 7, 0.0, True), (0.3333333333333333, 3, 0.0, False)], 2: [(0.3333333333333333, 7, 0.0, True), (0.3333333333333333, 3, 0.0, False), (0.3333333333333333, 3, 0.0, False)], 3: [(0.3333333333333333, 3, 0.0, False), (0.3333333333333333, 3, 0.0, False), (0.3333333333333333, 2, 0.0, False)]}, 4: {0: [(0.3333333333333333, 0, 0.0, False), (0.3333333333333333, 4, 0.0, False), (0.3333333333333333, 8, 0.0, False)], 1: [(0.3333333333333333, 4, 0.0, False), (0.3333333333333333, 8, 0.0, False), (0.3333333333333333, 5, 0.0, True)], 2: [(0.3333333333333333, 8, 0.0, False), (0.3333333333333333, 5, 0.0, True), (0.3333333333333333, 0, 0.0, False)], 3: [(0.3333333333333333, 5, 0.0, True), (0.3333333333333333, 0, 0.0, False), (0.3333333333333333, 4, 0.0, False)]}, 5: {0: [(1.0, 5, 0, True)], 1: [(1.0, 5, 0, True)], 2: [(1.0, 5, 0, True)], 3: [(1.0, 5, 0, True)]}, 6: {0: [(0.3333333333333333, 2, 0.0, False), (0.3333333333333333, 5, 0.0, True), (0.3333333333333333, 10, 0.0, False)], 1: [(0.3333333333333333, 5, 0.0, True), (0.3333333333333333, 10, 0.0, False), (0.3333333333333333, 7, 0.0, True)], 2: [(0.3333333333333333, 10, 0.0, False), (0.3333333333333333, 7, 0.0, True), (0.3333333333333333, 2, 0.0, False)], 3: [(0.3333333333333333, 7, 0.0, True), (0.3333333333333333, 2, 0.0, False), (0.3333333333333333, 5, 0.0, True)]}, 7: {0: [(1.0, 7, 0, True)], 1: [(1.0, 7, 0, True)], 2: [(1.0, 7, 0, True)], 3: [(1.0, 7, 0, True)]}, 8: {0: [(0.3333333333333333, 4, 0.0, False), (0.3333333333333333, 8, 0.0, False), (0.3333333333333333, 12, 0.0, True)], 1: [(0.3333333333333333, 8, 0.0, False), (0.3333333333333333, 12, 0.0, True), (0.3333333333333333, 9, 0.0, False)], 2: [(0.3333333333333333, 12, 0.0, True), (0.3333333333333333, 9, 0.0, False), (0.3333333333333333, 4, 0.0, False)], 3: [(0.3333333333333333, 9, 0.0, False), (0.3333333333333333, 4, 0.0, False), (0.3333333333333333, 8, 0.0, False)]}, 9: {0: [(0.3333333333333333, 5, 0.0, True), (0.3333333333333333, 8, 0.0, False), (0.3333333333333333, 13, 0.0, False)], 1: [(0.3333333333333333, 8, 0.0, False), (0.3333333333333333, 13, 0.0, False), (0.3333333333333333, 10, 0.0, False)], 2: [(0.3333333333333333, 13, 0.0, False), (0.3333333333333333, 10, 0.0, False), (0.3333333333333333, 5, 0.0, True)], 3: [(0.3333333333333333, 10, 0.0, False), (0.3333333333333333, 5, 0.0, True), (0.3333333333333333, 8, 0.0, False)]}, 10: {0: [(0.3333333333333333, 6, 0.0, False), (0.3333333333333333, 9, 0.0, False), (0.3333333333333333, 14, 0.0, False)], 1: [(0.3333333333333333, 9, 0.0, False), (0.3333333333333333, 14, 0.0, False), (0.3333333333333333, 11, 0.0, True)], 2: [(0.3333333333333333, 14, 0.0, False), (0.3333333333333333, 11, 0.0, True), (0.3333333333333333, 6, 0.0, False)], 3: [(0.3333333333333333, 11, 0.0, True), (0.3333333333333333, 6, 0.0, False), (0.3333333333333333, 9, 0.0, False)]}, 11: {0: [(1.0, 11, 0, True)], 1: [(1.0, 11, 0, True)], 2: [(1.0, 11, 0, True)], 3: [(1.0, 11, 0, True)]}, 12: {0: [(1.0, 12, 0, True)], 1: [(1.0, 12, 0, True)], 2: [(1.0, 12, 0, True)], 3: [(1.0, 12, 0, True)]}, 13: {0: [(0.3333333333333333, 9, 0.0, False), (0.3333333333333333, 12, 0.0, True), (0.3333333333333333, 13, 0.0, False)], 1: [(0.3333333333333333, 12, 0.0, True), (0.3333333333333333, 13, 0.0, False), (0.3333333333333333, 14, 0.0, False)], 2: [(0.3333333333333333, 13, 0.0, False), (0.3333333333333333, 14, 0.0, False), (0.3333333333333333, 9, 0.0, False)], 3: [(0.3333333333333333, 14, 0.0, False), (0.3333333333333333, 9, 0.0, False), (0.3333333333333333, 12, 0.0, True)]}, 14: {0: [(0.3333333333333333, 10, 0.0, False), (0.3333333333333333, 13, 0.0, False), (0.3333333333333333, 14, 0.0, False)], 1: [(0.3333333333333333, 13, 0.0, False), (0.3333333333333333, 14, 0.0, False), (0.3333333333333333, 15, 1.0, True)], 2: [(0.3333333333333333, 14, 0.0, False), (0.3333333333333333, 15, 1.0, True), (0.3333333333333333, 10, 0.0, False)], 3: [(0.3333333333333333, 15, 1.0, True), (0.3333333333333333, 10, 0.0, False), (0.3333333333333333, 13, 0.0, False)]}, 15: {0: [(1.0, 15, 0, True)], 1: [(1.0, 15, 0, True)], 2: [(1.0, 15, 0, True)], 3: [(1.0, 15, 0, True)]}}\n"
          ]
        }
      ]
    },
    {
      "cell_type": "markdown",
      "source": [
        "Esta función de transición es un diccionario que tendrá un tamaño igual al número de estados:"
      ],
      "metadata": {
        "id": "qbNwaijDDbwV"
      }
    },
    {
      "cell_type": "code",
      "source": [
        "len(P)"
      ],
      "metadata": {
        "id": "GSlHFIumDoX8",
        "colab": {
          "base_uri": "https://localhost:8080/"
        },
        "outputId": "a0ccefc1-271f-4bf8-c713-40050a39c9ca"
      },
      "execution_count": null,
      "outputs": [
        {
          "output_type": "execute_result",
          "data": {
            "text/plain": [
              "16"
            ]
          },
          "metadata": {},
          "execution_count": 7
        }
      ]
    },
    {
      "cell_type": "markdown",
      "source": [
        "Si por ejemplo escribimos `P[0][2]` lo que obtendremos será la función de transición partiendo del estado *s=0* y tomando la acción *a=2*:"
      ],
      "metadata": {
        "id": "3dYOG62QEuWA"
      }
    },
    {
      "cell_type": "code",
      "source": [
        "P[14][2]"
      ],
      "metadata": {
        "id": "hw-kuKaXDxrz",
        "colab": {
          "base_uri": "https://localhost:8080/"
        },
        "outputId": "6a97579d-64fb-48f0-a499-ba94d9349813"
      },
      "execution_count": null,
      "outputs": [
        {
          "output_type": "execute_result",
          "data": {
            "text/plain": [
              "[(0.3333333333333333, 14, 0.0, False),\n",
              " (0.3333333333333333, 15, 1.0, True),\n",
              " (0.3333333333333333, 10, 0.0, False)]"
            ]
          },
          "metadata": {},
          "execution_count": 14
        }
      ]
    },
    {
      "cell_type": "markdown",
      "source": [
        "¿Cómo se lee este resultado?\n",
        "\n",
        "- `(0.33, 14, 0.0, False)`: desde el estado 14, y tomando la acción 2, hay un **0.33** de probabilidad de permanecer en el estado **14**, obteniendo una recompensa de **0.0** y el estado al que llegaría no es terminal (`False`)\n",
        "- `(0.33, 15, 1.0, True)`: desde el estado 14, y tomando la acción 2, hay un **0.33** de probabilidad de llegar al estado **15**, obteniendo una recompensa de **1.0** y el estado al que llegaría es terminal (`True`)\n",
        "- `(0.33, 10, 0.0, False)`: desde el estado 14, y tomando la acción 2, hay un **0.33** de probabilidad de llegar al estado **10**, obteniendo una recompensa de **0.0** y el estado al que llegaría no es terminal (`False`)"
      ],
      "metadata": {
        "id": "_d0G1GmQE9Wi"
      }
    },
    {
      "cell_type": "markdown",
      "source": [
        "## 3. Interactuando con el entorno\n",
        "\n",
        "Además, el entorno contiene métodos útiles que permiten la interacción del Agente.\n",
        "\n",
        "`reset` reinicia el entorno al estado inicial y retorna el valor de dicho estado:"
      ],
      "metadata": {
        "id": "NrYg9d7h_1QV"
      }
    },
    {
      "cell_type": "code",
      "source": [
        "s = env.reset()\n",
        "print(s)\n",
        "env.render()"
      ],
      "metadata": {
        "id": "e3_aSm08-iUK",
        "colab": {
          "base_uri": "https://localhost:8080/"
        },
        "outputId": "8cf91b3e-6b11-41f8-e0db-3f33c2b1ae81"
      },
      "execution_count": null,
      "outputs": [
        {
          "output_type": "stream",
          "name": "stdout",
          "text": [
            "0\n",
            "\n",
            "\u001b[41mS\u001b[0mFFF\n",
            "FHFH\n",
            "FFFH\n",
            "HFFG\n"
          ]
        }
      ]
    },
    {
      "cell_type": "markdown",
      "source": [
        "`step` ejecuta una acción por parte del Agente dentro del Entorno.\n",
        "\n",
        "Como habrá una transición de estado, retorna:\n",
        "- observation (el nuevo estado, s')\n",
        "- reward (la recompensa obtenida, r)\n",
        "- done (\"True\" si el episodio terminó)\n",
        "- info (datos adicionales que dependen del entorno)"
      ],
      "metadata": {
        "id": "cCENpiT-Glfs"
      }
    },
    {
      "cell_type": "code",
      "source": [
        "# Seleccionar una acción aleatoria\n",
        "a = env.action_space.sample()\n",
        "print(a)"
      ],
      "metadata": {
        "id": "CPEEzV5S-nSa",
        "colab": {
          "base_uri": "https://localhost:8080/"
        },
        "outputId": "9eba3778-b2b2-42ed-c6ed-30401e249467"
      },
      "execution_count": null,
      "outputs": [
        {
          "output_type": "stream",
          "name": "stdout",
          "text": [
            "3\n"
          ]
        }
      ]
    },
    {
      "cell_type": "code",
      "source": [
        "# Aplicar \"step\"\n",
        "s_, r, done, info = env.step(a)\n",
        "\n",
        "print(f'Nuevo estado: {s_}')\n",
        "print(f'Recompensa: {r}')\n",
        "print(f'¿Terminó el episodio?: {done}')\n",
        "print(f'Información adicional: {info}')"
      ],
      "metadata": {
        "id": "m2gwVyuy_aM2",
        "colab": {
          "base_uri": "https://localhost:8080/"
        },
        "outputId": "73486f47-e075-4d17-aae2-badb2e435a01"
      },
      "execution_count": null,
      "outputs": [
        {
          "output_type": "stream",
          "name": "stdout",
          "text": [
            "Nuevo estado: 2\n",
            "Recompensa: 0.0\n",
            "¿Terminó el episodio?: False\n",
            "Información adicional: {'prob': 0.3333333333333333}\n"
          ]
        }
      ]
    },
    {
      "cell_type": "code",
      "source": [
        "# Renderizar el entorno actualizado\n",
        "env.render()"
      ],
      "metadata": {
        "id": "l8ib7bJh_do1",
        "colab": {
          "base_uri": "https://localhost:8080/"
        },
        "outputId": "10301c2d-4345-4dc9-89a8-96deb0660337"
      },
      "execution_count": null,
      "outputs": [
        {
          "output_type": "stream",
          "name": "stdout",
          "text": [
            "  (Up)\n",
            "SF\u001b[41mF\u001b[0mF\n",
            "FHFH\n",
            "FFFH\n",
            "HFFG\n"
          ]
        }
      ]
    },
    {
      "cell_type": "code",
      "source": [],
      "metadata": {
        "id": "dRHG-dBhSHoE"
      },
      "execution_count": null,
      "outputs": []
    }
  ]
}